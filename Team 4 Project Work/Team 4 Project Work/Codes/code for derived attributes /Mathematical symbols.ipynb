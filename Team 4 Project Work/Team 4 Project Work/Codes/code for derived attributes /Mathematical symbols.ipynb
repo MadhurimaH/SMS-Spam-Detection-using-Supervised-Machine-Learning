{
 "cells": [
  {
   "cell_type": "code",
   "execution_count": null,
   "metadata": {},
   "outputs": [],
   "source": [
    "import pandas as pd\n",
    "data=pd.read_csv('kaggle.csv')"
   ]
  },
  {
   "cell_type": "code",
   "execution_count": null,
   "metadata": {},
   "outputs": [],
   "source": [
    "def mathsymbols(str):\n",
    "    mathsym = 0\n",
    "    for i in range(0, len(str)):  \n",
    "            ch = str[i]  \n",
    "\n",
    "            if (ch=='+' or ch == '-' or ch=='*' or ch=='^' or ch=='%' or ch=='/' or ch=='=' ):    \n",
    "                mathsym += 1\n",
    "    return mathsym"
   ]
  },
  {
   "cell_type": "code",
   "execution_count": null,
   "metadata": {},
   "outputs": [],
   "source": [
    "data['Mathemtical symbols']= data['Message'].apply(mathsymbols)\n",
    "(data)"
   ]
  },
  {
   "cell_type": "code",
   "execution_count": null,
   "metadata": {},
   "outputs": [],
   "source": []
  }
 ],
 "metadata": {
  "kernelspec": {
   "display_name": "Python 3",
   "language": "python",
   "name": "python3"
  },
  "language_info": {
   "codemirror_mode": {
    "name": "ipython",
    "version": 3
   },
   "file_extension": ".py",
   "mimetype": "text/x-python",
   "name": "python",
   "nbconvert_exporter": "python",
   "pygments_lexer": "ipython3",
   "version": "3.5.1"
  }
 },
 "nbformat": 4,
 "nbformat_minor": 2
}
