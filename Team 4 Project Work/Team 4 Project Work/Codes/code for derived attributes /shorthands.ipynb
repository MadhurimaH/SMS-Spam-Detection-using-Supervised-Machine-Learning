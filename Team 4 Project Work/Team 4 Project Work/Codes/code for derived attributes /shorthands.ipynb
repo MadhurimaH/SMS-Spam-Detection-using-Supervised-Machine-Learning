{
 "cells": [
  {
   "cell_type": "code",
   "execution_count": 3,
   "metadata": {},
   "outputs": [
    {
     "data": {
      "text/html": [
       "<div>\n",
       "<style scoped>\n",
       "    .dataframe tbody tr th:only-of-type {\n",
       "        vertical-align: middle;\n",
       "    }\n",
       "\n",
       "    .dataframe tbody tr th {\n",
       "        vertical-align: top;\n",
       "    }\n",
       "\n",
       "    .dataframe thead th {\n",
       "        text-align: right;\n",
       "    }\n",
       "</style>\n",
       "<table border=\"1\" class=\"dataframe\">\n",
       "  <thead>\n",
       "    <tr style=\"text-align: right;\">\n",
       "      <th></th>\n",
       "      <th>Category</th>\n",
       "      <th>Message</th>\n",
       "      <th>shorthands</th>\n",
       "    </tr>\n",
       "  </thead>\n",
       "  <tbody>\n",
       "    <tr>\n",
       "      <th>0</th>\n",
       "      <td>ham</td>\n",
       "      <td>Go until jurong point, crazy.. Available only ...</td>\n",
       "      <td>1</td>\n",
       "    </tr>\n",
       "    <tr>\n",
       "      <th>1</th>\n",
       "      <td>ham</td>\n",
       "      <td>Ok lar... Joking wif u oni...</td>\n",
       "      <td>1</td>\n",
       "    </tr>\n",
       "    <tr>\n",
       "      <th>2</th>\n",
       "      <td>spam</td>\n",
       "      <td>Free entry in 2 a wkly comp to win FA Cup fina...</td>\n",
       "      <td>1</td>\n",
       "    </tr>\n",
       "    <tr>\n",
       "      <th>3</th>\n",
       "      <td>ham</td>\n",
       "      <td>U dun say so early hor... U c already then say...</td>\n",
       "      <td>1</td>\n",
       "    </tr>\n",
       "    <tr>\n",
       "      <th>4</th>\n",
       "      <td>ham</td>\n",
       "      <td>Nah I don't think he goes to usf, he lives aro...</td>\n",
       "      <td>1</td>\n",
       "    </tr>\n",
       "  </tbody>\n",
       "</table>\n",
       "</div>"
      ],
      "text/plain": [
       "  Category                                            Message  shorthands\n",
       "0      ham  Go until jurong point, crazy.. Available only ...           1\n",
       "1      ham                      Ok lar... Joking wif u oni...           1\n",
       "2     spam  Free entry in 2 a wkly comp to win FA Cup fina...           1\n",
       "3      ham  U dun say so early hor... U c already then say...           1\n",
       "4      ham  Nah I don't think he goes to usf, he lives aro...           1"
      ]
     },
     "execution_count": 3,
     "metadata": {},
     "output_type": "execute_result"
    }
   ],
   "source": [
    "import csv\n",
    "import re\n",
    "\n",
    "def translator(user_string):\n",
    "    user_string = user_string.split(\" \")\n",
    "    j = 0\n",
    "    for _str in user_string:\n",
    "        # File path which consists of Abbreviations.\n",
    "        fileName = \"slang.txt\"\n",
    "        # File Access mode [Read Mode]\n",
    "        accessMode = \"r\"\n",
    "        with open(fileName, accessMode) as myCSVfile:\n",
    "            # Reading file as CSV with delimiter as \"=\", so that abbreviation are stored in row[0] and phrases in row[1]\n",
    "            dataFromFile = csv.reader(myCSVfile, delimiter=\"=\")\n",
    "            # Removing Special Characters.\n",
    "            _str = re.sub('[^a-zA-Z0-9-_.]', '', _str)\n",
    "            for row in dataFromFile:\n",
    "                # Check if selected word matches short forms[LHS] in text file.\n",
    "                if _str.upper() == row[0]:\n",
    "                    # If match found replace it with its appropriate phrase in text file.\n",
    "                    return 1\n",
    "            myCSVfile.close()\n",
    "        j = j + 1\n",
    "    return 0\n",
    "import pandas as pd\n",
    "data=pd.read_csv(r\"spam.csv\",encoding=\"ISO-8859-1\")\n",
    "\n",
    "data['shorthands']= data['Message'].apply(translator)\n",
    "data.head()\n",
    "\n"
   ]
  },
  {
   "cell_type": "code",
   "execution_count": 4,
   "metadata": {},
   "outputs": [],
   "source": [
    "data.to_csv(r'C:\\Users\\lenovo pc\\downloads\\spam1.csv')"
   ]
  },
  {
   "cell_type": "code",
   "execution_count": 5,
   "metadata": {},
   "outputs": [
    {
     "name": "stdout",
     "output_type": "stream",
     "text": [
      "[1350, 147]\n"
     ]
    }
   ],
   "source": [
    "df=data.loc[data['shorthands'] == 0]\n",
    "k=[]\n",
    "k.append(df.loc[df['Category']==\"ham\"].shape[0])\n",
    "k.append(df.loc[df['Category']==\"spam\"].shape[0])\n",
    "print(k)"
   ]
  },
  {
   "cell_type": "code",
   "execution_count": 6,
   "metadata": {},
   "outputs": [
    {
     "name": "stdout",
     "output_type": "stream",
     "text": [
      "[3475, 600]\n"
     ]
    }
   ],
   "source": [
    "df=data.loc[data['shorthands'] == 1]\n",
    "x=[]\n",
    "x.append(df.loc[df['Category']==\"ham\"].shape[0])\n",
    "x.append(df.loc[df['Category']==\"spam\"].shape[0])\n",
    "print(x)"
   ]
  },
  {
   "cell_type": "code",
   "execution_count": 23,
   "metadata": {},
   "outputs": [
    {
     "data": {
      "image/png": "[encoded data removed]",
      "text/plain": [
       "<Figure size 360x288 with 1 Axes>"
      ]
     },
     "metadata": {
      "needs_background": "light"
     },
     "output_type": "display_data"
    }
   ],
   "source": [
    "import matplotlib.pyplot as plt\n",
    "import numpy as np\n",
    "fig_size = plt.rcParams[\"figure.figsize\"]\n",
    "fig_size[0] = 5.0\n",
    "fig_size[1] = 4.0\n",
    "y= [\"Ham\",\"Spam\"]\n",
    "y_pos = np.arange(len(y))\n",
    "fig, ax = plt.subplots()\n",
    "b=plt.bar(y_pos, x,  align='center',alpha=1.0)\n",
    "b[0].set_color(\"green\")\n",
    "b[1].set_color(\"red\")\n",
    "plt.xticks(y_pos, y)\n",
    "plt.ylabel('No. of messages')\n",
    "plt.title('No. of Spam and Ham messages for texts with Shorthands')\n",
    "plt.tight_layout()\n",
    "plt.savefig(\"Shorthands_bar.jpg\",dpi=300)"
   ]
  },
  {
   "cell_type": "code",
   "execution_count": 17,
   "metadata": {},
   "outputs": [
    {
     "data": {
      "image/png": "[encoded data removed]",
      "text/plain": [
       "<Figure size 432x288 with 1 Axes>"
      ]
     },
     "metadata": {},
     "output_type": "display_data"
    }
   ],
   "source": [
    "import matplotlib.pyplot as plt1\n",
    "fig_size = plt.rcParams[\"figure.figsize\"]\n",
    "fig_size[0] = 6.0\n",
    "fig_size[1] = 4.0\n",
    "colors = ['green', 'red']\n",
    "sizes=x\n",
    "explode=(0.06,0)\n",
    "plt1.pie(sizes, labels=y, explode=explode, colors=colors, autopct='%1.1f%%', shadow=False, startangle=70)\n",
    "plt1.title(\"Percentage of ham to spam using shorthands\")\n",
    "plt1.savefig(\"Shorthands_pie.jpg\",dpi=300)\n",
    "plt1.show()"
   ]
  },
  {
   "cell_type": "code",
   "execution_count": 18,
   "metadata": {},
   "outputs": [
    {
     "name": "stdout",
     "output_type": "stream",
     "text": [
      "0.623653984206748\n",
      "0.10768126346015794\n"
     ]
    }
   ],
   "source": [
    "%matplotlib inline\n",
    "import numpy as np\n",
    "import matplotlib.pyplot as plt\n",
    "import pandas as pd\n",
    "\n",
    "\n",
    "a=data[data['Category'] == 'ham']['shorthands'].sum()\n",
    "aa=a/5572\n",
    "print(aa)\n",
    "\n",
    "a=data[data['Category'] == 'spam']['shorthands'].sum()\n",
    "d=a/5572\n",
    "print(d)\n",
    "a1=[aa,d]"
   ]
  },
  {
   "cell_type": "code",
   "execution_count": 30,
   "metadata": {},
   "outputs": [
    {
     "data": {
      "image/png": "[encoded data removed]",
      "text/plain": [
       "<Figure size 432x288 with 1 Axes>"
      ]
     },
     "metadata": {
      "needs_background": "light"
     },
     "output_type": "display_data"
    }
   ],
   "source": [
    "fig_size = plt.rcParams[\"figure.figsize\"]\n",
    "fig_size[0] = 6.0\n",
    "fig_size[1] = 4.0\n",
    "y= [\"Ham\",\"Spam\"]\n",
    "y_pos = np.arange(len(y))\n",
    "fig, ax = plt.subplots()\n",
    "b=plt.bar(y_pos, a1,  align='center',alpha=1.0)\n",
    "b[0].set_color(\"green\")\n",
    "b[1].set_color(\"red\")\n",
    "plt.xticks(y_pos, y)\n",
    "plt.ylabel('Average Frequency of messages')\n",
    "plt.title('Frequency of Spam and Ham messages for texts with Shorthands')\n",
    "plt.tight_layout()\n",
    "plt.savefig(\"Shorthands_freq.jpg\",dpi=300)"
   ]
  },
  {
   "cell_type": "code",
   "execution_count": null,
   "metadata": {},
   "outputs": [],
   "source": []
  }
 ],
 "metadata": {
  "kernelspec": {
   "display_name": "Python 3",
   "language": "python",
   "name": "python3"
  },
  "language_info": {
   "codemirror_mode": {
    "name": "ipython",
    "version": 3
   },
   "file_extension": ".py",
   "mimetype": "text/x-python",
   "name": "python",
   "nbconvert_exporter": "python",
   "pygments_lexer": "ipython3",
   "version": "3.7.1"
  }
 },
 "nbformat": 4,
 "nbformat_minor": 2
}
