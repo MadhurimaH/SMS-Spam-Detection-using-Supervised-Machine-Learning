{
 "cells": [
  {
   "cell_type": "code",
   "execution_count": 1,
   "metadata": {},
   "outputs": [],
   "source": [
    "import pandas as pd"
   ]
  },
  {
   "cell_type": "code",
   "execution_count": 2,
   "metadata": {},
   "outputs": [
    {
     "name": "stdout",
     "output_type": "stream",
     "text": [
      "C:\\Users\\srishti\n"
     ]
    }
   ],
   "source": [
    "cd .."
   ]
  },
  {
   "cell_type": "code",
   "execution_count": 3,
   "metadata": {},
   "outputs": [
    {
     "name": "stdout",
     "output_type": "stream",
     "text": [
      "C:\\Users\n"
     ]
    }
   ],
   "source": [
    "cd .."
   ]
  },
  {
   "cell_type": "code",
   "execution_count": 4,
   "metadata": {},
   "outputs": [
    {
     "name": "stdout",
     "output_type": "stream",
     "text": [
      "C:\\\n"
     ]
    }
   ],
   "source": [
    "cd .."
   ]
  },
  {
   "cell_type": "code",
   "execution_count": 37,
   "metadata": {},
   "outputs": [
    {
     "name": "stdout",
     "output_type": "stream",
     "text": [
      "0    111\n",
      "1     29\n",
      "2    155\n",
      "3     49\n",
      "4     61\n",
      "Name: length, dtype: int64\n"
     ]
    },
    {
     "data": {
      "text/plain": [
       "'i=0\\nfor x in data.iterrows():\\n    indf.append(i) \\n    i+=1\\nindf'"
      ]
     },
     "execution_count": 37,
     "metadata": {},
     "output_type": "execute_result"
    }
   ],
   "source": [
    "import re\n",
    "import pandas as pd\n",
    "\n",
    "#Function to calculate length of message\n",
    "def getlen(str):\n",
    "    return len(str)\n",
    "\n",
    "\n",
    "data=pd.read_csv('dataset/SPAM.csv')\n",
    "data['length'] = data['Message'].apply(getlen)\n",
    "print(data['length'].head())\n"
   ]
  },
  {
   "cell_type": "code",
   "execution_count": 48,
   "metadata": {},
   "outputs": [],
   "source": [
    "len_ham=[]\n",
    "len_spam=[]\n",
    "for index, row in data.iterrows():\n",
    "    if(row['Category']==\"ham\"):\n",
    "        len_ham.append(row['length'])\n",
    "    else:\n",
    "        len_spam.append(row['length'])  \n",
    "n=len(len_ham) \n",
    "n_ham=[]\n",
    "n_spam=[]\n",
    "i=0\n",
    "for x in range(n):\n",
    "    n_ham.append(i) \n",
    "    i+=1\n",
    "i=0    \n",
    "for x in range(len(len_spam)):\n",
    "    n_spam.append(i)\n",
    "    i+=1"
   ]
  },
  {
   "cell_type": "code",
   "execution_count": 54,
   "metadata": {},
   "outputs": [
    {
     "data": {
      "image/png": "[encoded data removed]",
      "text/plain": [
       "<Figure size 432x288 with 1 Axes>"
      ]
     },
     "metadata": {
      "needs_background": "light"
     },
     "output_type": "display_data"
    }
   ],
   "source": [
    "import numpy as np\n",
    "import matplotlib.pyplot as plt\n",
    "\n",
    " \n",
    "# create plot for ham messages vs message length\n",
    "\n",
    "opacity = 0.8\n",
    "\n",
    "rects1 = plt.bar(n_ham,len_ham,\n",
    "                 alpha=opacity,\n",
    "                 color='g')\n",
    "\n",
    "plt.xlabel('Messages')\n",
    "plt.ylabel('Message Length')\n",
    "plt.ylim(0,500)\n",
    "plt.title('Plot for ham messages vs message length ')\n",
    "#plt.legend()\n",
    "#plt.tight_layout()\n",
    "plt.show()"
   ]
  },
  {
   "cell_type": "code",
   "execution_count": 59,
   "metadata": {},
   "outputs": [
    {
     "data": {
      "image/png": "[encoded data removed]",
      "text/plain": [
       "<Figure size 432x288 with 1 Axes>"
      ]
     },
     "metadata": {
      "needs_background": "light"
     },
     "output_type": "display_data"
    }
   ],
   "source": [
    " \n",
    "# create plot for ham messages vs message length\n",
    "\n",
    "opacity = 0.8\n",
    "\n",
    "rects1 = plt.bar(n_spam,len_spam,\n",
    "                 alpha=opacity,\n",
    "                 color='r')\n",
    "\n",
    "plt.xlabel('Messages')\n",
    "plt.ylabel('Message Length')\n",
    "plt.ylim(0,250)\n",
    "plt.title('Plot for spam messages vs message length ')\n",
    "#plt.legend()\n",
    "#plt.tight_layout()\n",
    "plt.show()"
   ]
  },
  {
   "cell_type": "code",
   "execution_count": null,
   "metadata": {},
   "outputs": [],
   "source": []
  }
 ],
 "metadata": {
  "kernelspec": {
   "display_name": "Python 2",
   "language": "python",
   "name": "python2"
  },
  "language_info": {
   "codemirror_mode": {
    "name": "ipython",
    "version": 2
   },
   "file_extension": ".py",
   "mimetype": "text/x-python",
   "name": "python",
   "nbconvert_exporter": "python",
   "pygments_lexer": "ipython2",
   "version": "2.7.15"
  }
 },
 "nbformat": 4,
 "nbformat_minor": 2
}
