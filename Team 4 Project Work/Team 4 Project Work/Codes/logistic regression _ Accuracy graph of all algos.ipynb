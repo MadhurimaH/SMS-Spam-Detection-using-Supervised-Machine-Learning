{
 "cells": [
  {
   "cell_type": "code",
   "execution_count": 1,
   "metadata": {},
   "outputs": [
    {
     "data": {
      "text/html": [
       "<div>\n",
       "<style scoped>\n",
       "    .dataframe tbody tr th:only-of-type {\n",
       "        vertical-align: middle;\n",
       "    }\n",
       "\n",
       "    .dataframe tbody tr th {\n",
       "        vertical-align: top;\n",
       "    }\n",
       "\n",
       "    .dataframe thead th {\n",
       "        text-align: right;\n",
       "    }\n",
       "</style>\n",
       "<table border=\"1\" class=\"dataframe\">\n",
       "  <thead>\n",
       "    <tr style=\"text-align: right;\">\n",
       "      <th></th>\n",
       "      <th>Unnamed: 0</th>\n",
       "      <th>Category</th>\n",
       "      <th>Message</th>\n",
       "      <th>Emoji</th>\n",
       "      <th>Mathemtical symbols</th>\n",
       "      <th>URL</th>\n",
       "      <th>shorthands</th>\n",
       "      <th>Dot</th>\n",
       "      <th>length</th>\n",
       "      <th>capitals</th>\n",
       "      <th>Num_Phone</th>\n",
       "      <th>Special characters</th>\n",
       "      <th>word_count</th>\n",
       "      <th>mis_spell</th>\n",
       "    </tr>\n",
       "  </thead>\n",
       "  <tbody>\n",
       "    <tr>\n",
       "      <th>0</th>\n",
       "      <td>0</td>\n",
       "      <td>ham</td>\n",
       "      <td>Go until jurong point, crazy.. Available only ...</td>\n",
       "      <td>0</td>\n",
       "      <td>0</td>\n",
       "      <td>0</td>\n",
       "      <td>3</td>\n",
       "      <td>3</td>\n",
       "      <td>111</td>\n",
       "      <td>0</td>\n",
       "      <td>0</td>\n",
       "      <td>0</td>\n",
       "      <td>20</td>\n",
       "      <td>1</td>\n",
       "    </tr>\n",
       "    <tr>\n",
       "      <th>1</th>\n",
       "      <td>1</td>\n",
       "      <td>ham</td>\n",
       "      <td>Ok lar... Joking wif u oni...</td>\n",
       "      <td>0</td>\n",
       "      <td>0</td>\n",
       "      <td>0</td>\n",
       "      <td>3</td>\n",
       "      <td>2</td>\n",
       "      <td>29</td>\n",
       "      <td>0</td>\n",
       "      <td>0</td>\n",
       "      <td>0</td>\n",
       "      <td>6</td>\n",
       "      <td>1</td>\n",
       "    </tr>\n",
       "    <tr>\n",
       "      <th>2</th>\n",
       "      <td>2</td>\n",
       "      <td>spam</td>\n",
       "      <td>Free entry in 2 a wkly comp to win FA Cup fina...</td>\n",
       "      <td>0</td>\n",
       "      <td>0</td>\n",
       "      <td>0</td>\n",
       "      <td>3</td>\n",
       "      <td>0</td>\n",
       "      <td>155</td>\n",
       "      <td>2</td>\n",
       "      <td>1</td>\n",
       "      <td>1</td>\n",
       "      <td>28</td>\n",
       "      <td>1</td>\n",
       "    </tr>\n",
       "    <tr>\n",
       "      <th>3</th>\n",
       "      <td>3</td>\n",
       "      <td>ham</td>\n",
       "      <td>U dun say so early hor... U c already then say...</td>\n",
       "      <td>0</td>\n",
       "      <td>0</td>\n",
       "      <td>0</td>\n",
       "      <td>4</td>\n",
       "      <td>2</td>\n",
       "      <td>49</td>\n",
       "      <td>2</td>\n",
       "      <td>0</td>\n",
       "      <td>0</td>\n",
       "      <td>11</td>\n",
       "      <td>1</td>\n",
       "    </tr>\n",
       "    <tr>\n",
       "      <th>4</th>\n",
       "      <td>4</td>\n",
       "      <td>ham</td>\n",
       "      <td>Nah I don't think he goes to usf, he lives aro...</td>\n",
       "      <td>0</td>\n",
       "      <td>0</td>\n",
       "      <td>0</td>\n",
       "      <td>1</td>\n",
       "      <td>0</td>\n",
       "      <td>61</td>\n",
       "      <td>1</td>\n",
       "      <td>0</td>\n",
       "      <td>0</td>\n",
       "      <td>13</td>\n",
       "      <td>1</td>\n",
       "    </tr>\n",
       "  </tbody>\n",
       "</table>\n",
       "</div>"
      ],
      "text/plain": [
       "   Unnamed: 0 Category                                            Message  \\\n",
       "0           0      ham  Go until jurong point, crazy.. Available only ...   \n",
       "1           1      ham                      Ok lar... Joking wif u oni...   \n",
       "2           2     spam  Free entry in 2 a wkly comp to win FA Cup fina...   \n",
       "3           3      ham  U dun say so early hor... U c already then say...   \n",
       "4           4      ham  Nah I don't think he goes to usf, he lives aro...   \n",
       "\n",
       "   Emoji  Mathemtical symbols  URL  shorthands  Dot  length  capitals  \\\n",
       "0      0                    0    0           3    3     111         0   \n",
       "1      0                    0    0           3    2      29         0   \n",
       "2      0                    0    0           3    0     155         2   \n",
       "3      0                    0    0           4    2      49         2   \n",
       "4      0                    0    0           1    0      61         1   \n",
       "\n",
       "   Num_Phone  Special characters  word_count  mis_spell  \n",
       "0          0                   0          20          1  \n",
       "1          0                   0           6          1  \n",
       "2          1                   1          28          1  \n",
       "3          0                   0          11          1  \n",
       "4          0                   0          13          1  "
      ]
     },
     "execution_count": 1,
     "metadata": {},
     "output_type": "execute_result"
    }
   ],
   "source": [
    "\n",
    "#import pandas\n",
    "import pandas as pd\n",
    "col_names = ['Category','Message','Emoji''Mathemtical symbols','URL','shorthands','Dot','length','capitals','Num_Phone','Special characters','word_count','mis_spell']\n",
    "pima = pd.read_csv(\"spamfinal.csv\")\n",
    "pima.head()"
   ]
  },
  {
   "cell_type": "code",
   "execution_count": 2,
   "metadata": {},
   "outputs": [],
   "source": [
    "#split dataset in features and target variable\n",
    "feature_cols = ['Emoji','Mathemtical symbols','URL','shorthands','Dot','length','capitals','Num_Phone','Special characters','word_count','mis_spell']\n",
    "X = pima[feature_cols] # Features\n",
    "y = pima.Category # Target variable"
   ]
  },
  {
   "cell_type": "code",
   "execution_count": 3,
   "metadata": {},
   "outputs": [],
   "source": [
    "# split X and y into training and testing sets\n",
    "from sklearn.model_selection import train_test_split\n",
    "X_train,X_test,y_train,y_test = train_test_split(X,y,test_size=0.3,random_state=0)"
   ]
  },
  {
   "cell_type": "code",
   "execution_count": 4,
   "metadata": {},
   "outputs": [
    {
     "name": "stderr",
     "output_type": "stream",
     "text": [
      "c:\\users\\anviksha dixit\\appdata\\local\\programs\\python\\python35\\lib\\site-packages\\sklearn\\linear_model\\logistic.py:433: FutureWarning: Default solver will be changed to 'lbfgs' in 0.22. Specify a solver to silence this warning.\n",
      "  FutureWarning)\n"
     ]
    }
   ],
   "source": [
    " # import the class\n",
    "from sklearn.linear_model import LogisticRegression\n",
    "\n",
    "# instantiate the model (using the default parameters)\n",
    "logreg = LogisticRegression()\n",
    "\n",
    "# fit the model with data\n",
    "logreg.fit(X_train,y_train)\n",
    "\n",
    "#\n",
    "y_pred=logreg.predict(X_test)"
   ]
  },
  {
   "cell_type": "code",
   "execution_count": 5,
   "metadata": {},
   "outputs": [
    {
     "data": {
      "text/plain": [
       "array([[1435,   16],\n",
       "       [  61,  160]], dtype=int64)"
      ]
     },
     "execution_count": 5,
     "metadata": {},
     "output_type": "execute_result"
    }
   ],
   "source": [
    "# import the metrics class\n",
    "from sklearn import metrics\n",
    "cnf_matrix = metrics.confusion_matrix(y_test, y_pred)\n",
    "cnf_matrix"
   ]
  },
  {
   "cell_type": "code",
   "execution_count": 6,
   "metadata": {},
   "outputs": [],
   "source": [
    "# import required modules\n",
    "import numpy as np\n",
    "import matplotlib.pyplot as plt\n",
    "import seaborn as sns\n",
    "%matplotlib inline"
   ]
  },
  {
   "cell_type": "code",
   "execution_count": 7,
   "metadata": {},
   "outputs": [
    {
     "data": {
      "image/png": "[encoded data removed]",
      "text/plain": [
       "<Figure size 432x288 with 2 Axes>"
      ]
     },
     "metadata": {
      "needs_background": "light"
     },
     "output_type": "display_data"
    }
   ],
   "source": [
    "class_names=[\"ham\",\"spam\"] # name  of classes\n",
    "fig, ax = plt.subplots()\n",
    "tick_marks = np.arange(len(class_names))\n",
    "plt.xticks(tick_marks, class_names)\n",
    "plt.yticks(tick_marks, class_names)\n",
    "# create heatmap\n",
    "sns.heatmap(pd.DataFrame(cnf_matrix), annot=True, cmap=\"YlGnBu\" ,fmt='g')\n",
    "ax.xaxis.set_label_position(\"top\")\n",
    "plt.tight_layout()\n",
    "plt.title('Confusion matrix', y=2.1 )\n",
    "plt.ylabel('Actual label')\n",
    "plt.xlabel('Predicted label')\n",
    "plt.savefig('confusion.png',dbi='300') "
   ]
  },
  {
   "cell_type": "code",
   "execution_count": 8,
   "metadata": {},
   "outputs": [
    {
     "name": "stdout",
     "output_type": "stream",
     "text": [
      "Accuracy: 0.9539473684210527\n",
      "Precision 0.9341577540106951\n",
      "recall 0.8564775112186633\n"
     ]
    }
   ],
   "source": [
    "from sklearn.metrics import accuracy_score, f1_score, precision_score, recall_score, classification_report, confusion_matrix\n",
    "print(\"Accuracy:\",metrics.accuracy_score(y_test, y_pred))\n",
    "#print(\"Accuracy:\",metrics.accuracy_score(y_test, y_pred))\n",
    "print(\"Precision\",precision_score(y_test, y_pred, average=\"macro\"))\n",
    "print(\"recall\",recall_score(y_test, y_pred, average=\"macro\"))\n"
   ]
  },
  {
   "cell_type": "code",
   "execution_count": 9,
   "metadata": {},
   "outputs": [
    {
     "data": {
      "text/markdown": [
       "**Accuracy,Precision and Recall for different test Splits**"
      ],
      "text/plain": [
       "<IPython.core.display.Markdown object>"
      ]
     },
     "metadata": {},
     "output_type": "display_data"
    },
    {
     "data": {
      "text/markdown": [
       "**------------------------------------------------------------------------------------------**"
      ],
      "text/plain": [
       "<IPython.core.display.Markdown object>"
      ]
     },
     "metadata": {},
     "output_type": "display_data"
    },
    {
     "name": "stdout",
     "output_type": "stream",
     "text": [
      "0.5\n"
     ]
    },
    {
     "data": {
      "text/markdown": [
       "**Test Size**"
      ],
      "text/plain": [
       "<IPython.core.display.Markdown object>"
      ]
     },
     "metadata": {},
     "output_type": "display_data"
    },
    {
     "name": "stdout",
     "output_type": "stream",
     "text": [
      "Accuracy: 0.9544149318018664\n",
      "Precision 0.9331089871897518\n",
      "recall 0.8559288345660678\n"
     ]
    },
    {
     "name": "stderr",
     "output_type": "stream",
     "text": [
      "c:\\users\\anviksha dixit\\appdata\\local\\programs\\python\\python35\\lib\\site-packages\\sklearn\\linear_model\\logistic.py:433: FutureWarning: Default solver will be changed to 'lbfgs' in 0.22. Specify a solver to silence this warning.\n",
      "  FutureWarning)\n"
     ]
    },
    {
     "data": {
      "text/markdown": [
       "**------------------------------------------------------------------------------------------**"
      ],
      "text/plain": [
       "<IPython.core.display.Markdown object>"
      ]
     },
     "metadata": {},
     "output_type": "display_data"
    },
    {
     "name": "stdout",
     "output_type": "stream",
     "text": [
      "0.4\n"
     ]
    },
    {
     "data": {
      "text/markdown": [
       "**Test Size**"
      ],
      "text/plain": [
       "<IPython.core.display.Markdown object>"
      ]
     },
     "metadata": {},
     "output_type": "display_data"
    },
    {
     "name": "stdout",
     "output_type": "stream",
     "text": [
      "Accuracy: 0.9564827276805743\n"
     ]
    },
    {
     "name": "stderr",
     "output_type": "stream",
     "text": [
      "c:\\users\\anviksha dixit\\appdata\\local\\programs\\python\\python35\\lib\\site-packages\\sklearn\\linear_model\\logistic.py:433: FutureWarning: Default solver will be changed to 'lbfgs' in 0.22. Specify a solver to silence this warning.\n",
      "  FutureWarning)\n"
     ]
    },
    {
     "name": "stdout",
     "output_type": "stream",
     "text": [
      "Precision 0.9415838113996233\n",
      "recall 0.8609950957127037\n"
     ]
    },
    {
     "data": {
      "text/markdown": [
       "**------------------------------------------------------------------------------------------**"
      ],
      "text/plain": [
       "<IPython.core.display.Markdown object>"
      ]
     },
     "metadata": {},
     "output_type": "display_data"
    },
    {
     "name": "stdout",
     "output_type": "stream",
     "text": [
      "0.3\n"
     ]
    },
    {
     "data": {
      "text/markdown": [
       "**Test Size**"
      ],
      "text/plain": [
       "<IPython.core.display.Markdown object>"
      ]
     },
     "metadata": {},
     "output_type": "display_data"
    },
    {
     "name": "stdout",
     "output_type": "stream",
     "text": [
      "Accuracy: 0.9539473684210527\n",
      "Precision 0.9341577540106951\n"
     ]
    },
    {
     "name": "stderr",
     "output_type": "stream",
     "text": [
      "c:\\users\\anviksha dixit\\appdata\\local\\programs\\python\\python35\\lib\\site-packages\\sklearn\\linear_model\\logistic.py:433: FutureWarning: Default solver will be changed to 'lbfgs' in 0.22. Specify a solver to silence this warning.\n",
      "  FutureWarning)\n"
     ]
    },
    {
     "name": "stdout",
     "output_type": "stream",
     "text": [
      "recall 0.8564775112186633\n"
     ]
    },
    {
     "data": {
      "text/markdown": [
       "**------------------------------------------------------------------------------------------**"
      ],
      "text/plain": [
       "<IPython.core.display.Markdown object>"
      ]
     },
     "metadata": {},
     "output_type": "display_data"
    },
    {
     "name": "stdout",
     "output_type": "stream",
     "text": [
      "0.2\n"
     ]
    },
    {
     "data": {
      "text/markdown": [
       "**Test Size**"
      ],
      "text/plain": [
       "<IPython.core.display.Markdown object>"
      ]
     },
     "metadata": {},
     "output_type": "display_data"
    },
    {
     "name": "stdout",
     "output_type": "stream",
     "text": [
      "Accuracy: 0.9533632286995516\n",
      "Precision 0.9425465838509317\n",
      "recall 0.8609129581151832\n"
     ]
    },
    {
     "name": "stderr",
     "output_type": "stream",
     "text": [
      "c:\\users\\anviksha dixit\\appdata\\local\\programs\\python\\python35\\lib\\site-packages\\sklearn\\linear_model\\logistic.py:433: FutureWarning: Default solver will be changed to 'lbfgs' in 0.22. Specify a solver to silence this warning.\n",
      "  FutureWarning)\n"
     ]
    },
    {
     "data": {
      "text/markdown": [
       "**------------------------------------------------------------------------------------------**"
      ],
      "text/plain": [
       "<IPython.core.display.Markdown object>"
      ]
     },
     "metadata": {},
     "output_type": "display_data"
    },
    {
     "name": "stdout",
     "output_type": "stream",
     "text": [
      "0.1\n"
     ]
    },
    {
     "data": {
      "text/markdown": [
       "**Test Size**"
      ],
      "text/plain": [
       "<IPython.core.display.Markdown object>"
      ]
     },
     "metadata": {},
     "output_type": "display_data"
    },
    {
     "name": "stdout",
     "output_type": "stream",
     "text": [
      "Accuracy: 0.9516129032258065\n",
      "Precision 0.9362449799196787\n",
      "recall 0.8519453519453519\n"
     ]
    },
    {
     "name": "stderr",
     "output_type": "stream",
     "text": [
      "c:\\users\\anviksha dixit\\appdata\\local\\programs\\python\\python35\\lib\\site-packages\\sklearn\\linear_model\\logistic.py:433: FutureWarning: Default solver will be changed to 'lbfgs' in 0.22. Specify a solver to silence this warning.\n",
      "  FutureWarning)\n"
     ]
    }
   ],
   "source": [
    "from IPython.display import Markdown, display\n",
    "display(Markdown(\"**Accuracy,Precision and Recall for different test Splits**\"))\n",
    "\n",
    "t=[0.5,0.4,0.3,0.2,0.1]\n",
    "X = pima[feature_cols] # Features\n",
    "y = pima.Category # Target variable\n",
    "p=[]\n",
    "r=[]\n",
    "a=[]\n",
    "for i in t:\n",
    "    display(Markdown(\"**------------------------------------------------------------------------------------------**\"))\n",
    "    \n",
    "    print(i)\n",
    "    display(Markdown(\"**Test Size**\"))\n",
    "    \n",
    "    X_train,X_test,y_train,y_test = train_test_split(X,y,test_size=i,random_state=0)\n",
    "    logreg = LogisticRegression()\n",
    "\n",
    "    # fit the model with data\n",
    "    logreg.fit(X_train,y_train)\n",
    "\n",
    "    #\n",
    "    y_pred=logreg.predict(X_test)\n",
    "    print(\"Accuracy:\",metrics.accuracy_score(y_test, y_pred))\n",
    "    a.append(metrics.accuracy_score(y_test, y_pred))\n",
    "    print(\"Precision\",precision_score(y_test, y_pred, average=\"macro\"))\n",
    "    p.append(precision_score(y_test, y_pred, average=\"macro\"))\n",
    "    print(\"recall\",recall_score(y_test, y_pred, average=\"macro\"))\n",
    "    r.append(recall_score(y_test, y_pred, average=\"macro\"))\n"
   ]
  },
  {
   "cell_type": "code",
   "execution_count": 10,
   "metadata": {},
   "outputs": [
    {
     "data": {
      "text/markdown": [
       "**bar graph of precision and recall for different test-splits**"
      ],
      "text/plain": [
       "<IPython.core.display.Markdown object>"
      ]
     },
     "metadata": {},
     "output_type": "display_data"
    },
    {
     "data": {
      "image/png": "[encoded data removed]",
      "text/plain": [
       "<Figure size 432x432 with 1 Axes>"
      ]
     },
     "metadata": {
      "needs_background": "light"
     },
     "output_type": "display_data"
    }
   ],
   "source": [
    "display(Markdown(\"**bar graph of precision and recall for different test-splits**\"))\n",
    "import matplotlib.pyplot as plt\n",
    "import numpy as np\n",
    "plt.figure(figsize=(6,6))\n",
    "n_groups=5\n",
    "index = np.arange(n_groups)\n",
    "bar_width = 0.3\n",
    "opacity = 0.8\n",
    " \n",
    "rects1 = plt.bar(index, p, bar_width,\n",
    "                 alpha=opacity,\n",
    "                 color='r',\n",
    "                 label='precision')\n",
    " \n",
    "rects2 = plt.bar(index + bar_width, r, bar_width,\n",
    "                 alpha=opacity,\n",
    "                 color='b',\n",
    "                 label='recall')\n",
    " \n",
    "plt.xlabel('configurations')\n",
    "plt.ylabel('percentage to represent precision and recall')\n",
    "plt.title('Precision and Recall Values')\n",
    "plt.xticks(index+0.15, ('90:10','80:20','70:30','60:40','50:50'))\n",
    "plt.legend()\n",
    "plt.savefig('logisticbar1.png',dbi='300')\n",
    "plt.tight_layout()\n",
    "plt.show()"
   ]
  },
  {
   "cell_type": "code",
   "execution_count": 11,
   "metadata": {},
   "outputs": [
    {
     "data": {
      "text/markdown": [
       "**ROC Curve for different test-split**"
      ],
      "text/plain": [
       "<IPython.core.display.Markdown object>"
      ]
     },
     "metadata": {},
     "output_type": "display_data"
    },
    {
     "data": {
      "image/png": "[encoded data removed]",
      "text/plain": [
       "<Figure size 432x288 with 1 Axes>"
      ]
     },
     "metadata": {
      "needs_background": "light"
     },
     "output_type": "display_data"
    }
   ],
   "source": [
    "display(Markdown(\"**ROC Curve for different test-split**\"))\n",
    "    \n",
    "import matplotlib.pyplot as plt\n",
    "n_groups=5\n",
    "index = np.arange(n_groups)\n",
    "plt.plot(a)\n",
    "plt.xlabel('configurations')\n",
    "plt.ylabel('Accuracy score')\n",
    "plt.title('Accuracy vs Configuration plot')\n",
    "plt.xticks(index+0.15, ('50:50', '60:40', '70:30', '80:20', '90:10'))\n",
    "plt.savefig('logisticroc.png',dbi='300') \n",
    "plt.show()"
   ]
  },
  {
   "cell_type": "code",
   "execution_count": 12,
   "metadata": {},
   "outputs": [
    {
     "data": {
      "text/markdown": [
       "**Implementinig all the algorithms for the generating Accuracy Vs Configuration graph**"
      ],
      "text/plain": [
       "<IPython.core.display.Markdown object>"
      ]
     },
     "metadata": {},
     "output_type": "display_data"
    },
    {
     "data": {
      "text/markdown": [
       "**Loadind the csv file of dataset into dataframe in Python program. and defing the column names and displaying dataset**"
      ],
      "text/plain": [
       "<IPython.core.display.Markdown object>"
      ]
     },
     "metadata": {},
     "output_type": "display_data"
    },
    {
     "data": {
      "text/markdown": [
       "**Accuracy,Precision and Recall for different test Splits**"
      ],
      "text/plain": [
       "<IPython.core.display.Markdown object>"
      ]
     },
     "metadata": {},
     "output_type": "display_data"
    },
    {
     "data": {
      "text/markdown": [
       "**------------------------------------------------------------------------------------------**"
      ],
      "text/plain": [
       "<IPython.core.display.Markdown object>"
      ]
     },
     "metadata": {},
     "output_type": "display_data"
    },
    {
     "name": "stdout",
     "output_type": "stream",
     "text": [
      "0.5\n"
     ]
    },
    {
     "data": {
      "text/markdown": [
       "**Test Size**"
      ],
      "text/plain": [
       "<IPython.core.display.Markdown object>"
      ]
     },
     "metadata": {},
     "output_type": "display_data"
    },
    {
     "name": "stdout",
     "output_type": "stream",
     "text": [
      "Accuracy: 0.9307250538406318\n",
      "Precision 0.8580872058889942\n",
      "recall 0.8446138367075968\n"
     ]
    },
    {
     "data": {
      "text/markdown": [
       "**------------------------------------------------------------------------------------------**"
      ],
      "text/plain": [
       "<IPython.core.display.Markdown object>"
      ]
     },
     "metadata": {},
     "output_type": "display_data"
    },
    {
     "name": "stdout",
     "output_type": "stream",
     "text": [
      "0.4\n"
     ]
    },
    {
     "data": {
      "text/markdown": [
       "**Test Size**"
      ],
      "text/plain": [
       "<IPython.core.display.Markdown object>"
      ]
     },
     "metadata": {},
     "output_type": "display_data"
    },
    {
     "name": "stdout",
     "output_type": "stream",
     "text": [
      "Accuracy: 0.9358456707043518\n",
      "Precision 0.8650055622977346\n",
      "recall 0.8660000202816445\n"
     ]
    },
    {
     "data": {
      "text/markdown": [
       "**------------------------------------------------------------------------------------------**"
      ],
      "text/plain": [
       "<IPython.core.display.Markdown object>"
      ]
     },
     "metadata": {},
     "output_type": "display_data"
    },
    {
     "name": "stdout",
     "output_type": "stream",
     "text": [
      "0.3\n"
     ]
    },
    {
     "data": {
      "text/markdown": [
       "**Test Size**"
      ],
      "text/plain": [
       "<IPython.core.display.Markdown object>"
      ]
     },
     "metadata": {},
     "output_type": "display_data"
    },
    {
     "name": "stdout",
     "output_type": "stream",
     "text": [
      "Accuracy: 0.937200956937799\n",
      "Precision 0.8689800771306191\n",
      "recall 0.8649249231140325\n"
     ]
    },
    {
     "data": {
      "text/markdown": [
       "**------------------------------------------------------------------------------------------**"
      ],
      "text/plain": [
       "<IPython.core.display.Markdown object>"
      ]
     },
     "metadata": {},
     "output_type": "display_data"
    },
    {
     "name": "stdout",
     "output_type": "stream",
     "text": [
      "0.2\n"
     ]
    },
    {
     "data": {
      "text/markdown": [
       "**Test Size**"
      ],
      "text/plain": [
       "<IPython.core.display.Markdown object>"
      ]
     },
     "metadata": {},
     "output_type": "display_data"
    },
    {
     "name": "stdout",
     "output_type": "stream",
     "text": [
      "Accuracy: 0.9345291479820628\n",
      "Precision 0.8563857290589452\n",
      "recall 0.8584394501602294\n"
     ]
    },
    {
     "data": {
      "text/markdown": [
       "**------------------------------------------------------------------------------------------**"
      ],
      "text/plain": [
       "<IPython.core.display.Markdown object>"
      ]
     },
     "metadata": {},
     "output_type": "display_data"
    },
    {
     "name": "stdout",
     "output_type": "stream",
     "text": [
      "0.1\n"
     ]
    },
    {
     "data": {
      "text/markdown": [
       "**Test Size**"
      ],
      "text/plain": [
       "<IPython.core.display.Markdown object>"
      ]
     },
     "metadata": {},
     "output_type": "display_data"
    },
    {
     "name": "stdout",
     "output_type": "stream",
     "text": [
      "Accuracy: 0.9301075268817204\n",
      "Precision 0.8320867001528718\n",
      "recall 0.8605405886014048\n"
     ]
    }
   ],
   "source": [
    "\n",
    "display(Markdown(\"**Implementinig all the algorithms for the generating Accuracy Vs Configuration graph**\"))\n",
    "\n",
    "#Optimising the tree to depth 6\n",
    "from sklearn.metrics import accuracy_score, f1_score, precision_score, recall_score, classification_report, confusion_matrix\n",
    "\n",
    "from IPython.display import Markdown, display\n",
    "import pandas as pd\n",
    "from sklearn.tree import DecisionTreeClassifier # Import Decision Tree Classifier\n",
    "from sklearn.model_selection import train_test_split # Import train_test_split function\n",
    "from sklearn import metrics #Import scikit-learn metrics module for accuracy calculation\n",
    "display(Markdown(\"**Loadind the csv file of dataset into dataframe in Python program. and defing the column names and displaying dataset**\"))\n",
    "col_names = ['Category','Message','Emoji''Mathemtical symbols','URL','shorthands','Dot','length','capitals','Num_Phone','Special characters','word_count','mis_spell']\n",
    "pima = pd.read_csv(\"spamfinal.csv\")\n",
    "pima\n",
    "#**Adding feature column**\"\n",
    "feature_cols = ['Emoji','Mathemtical symbols','URL','shorthands','Dot','length','capitals','Special characters','word_count','mis_spell']\n",
    "X = pima[feature_cols] # Features\n",
    "y = pima.Category # Target variable\n",
    "X_train, X_test, y_train, y_test = train_test_split(X, y, test_size=0.3, random_state=1) # 70% training and 30% test\n",
    "\n",
    "\n",
    "display(Markdown(\"**Accuracy,Precision and Recall for different test Splits**\"))\n",
    "\n",
    "t=[0.5,0.4,0.3,0.2,0.1]\n",
    "X = pima[feature_cols] # Features\n",
    "y = pima.Category # Target variable\n",
    "d1=[]\n",
    "d2=[]\n",
    "d3=[]\n",
    "for i in t:\n",
    "    display(Markdown(\"**------------------------------------------------------------------------------------------**\"))\n",
    "    \n",
    "    print(i)\n",
    "    display(Markdown(\"**Test Size**\"))\n",
    "    \n",
    "    X_train, X_test, y_train, y_test = train_test_split(X, y, test_size=i, random_state=1)\n",
    "    clf = DecisionTreeClassifier()\n",
    "    # Train Decision Tree Classifer\n",
    "    clf = clf.fit(X_train,y_train)\n",
    "    y_pred = clf.predict(X_test)\n",
    "    print(\"Accuracy:\",metrics.accuracy_score(y_test, y_pred))\n",
    "    d1.append(metrics.accuracy_score(y_test, y_pred))\n",
    "    print(\"Precision\",precision_score(y_test, y_pred, average=\"macro\"))\n",
    "    d2.append(precision_score(y_test, y_pred, average=\"macro\"))\n",
    "    print(\"recall\",recall_score(y_test, y_pred, average=\"macro\"))\n",
    "    d3.append(recall_score(y_test, y_pred, average=\"macro\"))\n"
   ]
  },
  {
   "cell_type": "code",
   "execution_count": 13,
   "metadata": {},
   "outputs": [
    {
     "name": "stdout",
     "output_type": "stream",
     "text": [
      "Accuracy: 0.9213926776740847\n",
      "Precision 0.8087086221430224\n",
      "recall 0.9124862273100769\n",
      "Accuracy: 0.9156572454015254\n",
      "Precision 0.8030706972686847\n",
      "recall 0.9164512250912302\n",
      "Accuracy: 0.9252392344497608\n",
      "Precision 0.8199926900584795\n",
      "recall 0.9182057591442049\n",
      "Accuracy: 0.9246636771300448\n",
      "Precision 0.8269382195833067\n",
      "recall 0.9129704301075269\n",
      "Accuracy: 0.9372759856630825\n",
      "Precision 0.8507169913419914\n",
      "recall 0.91998541998542\n"
     ]
    }
   ],
   "source": [
    "import pandas as pd\n",
    "import numpy as np\n",
    "import matplotlib.pyplot as plt\n",
    "import time\n",
    "from sklearn.model_selection import train_test_split\n",
    "from sklearn.naive_bayes import GaussianNB, BernoulliNB, MultinomialNB\n",
    "data = pd.read_csv(\"spamfinal.csv\",encoding=\"ISO-8859-1\")\n",
    "data\n",
    "X_train, X_test = train_test_split(data, test_size=0.5, random_state=int(time.time()))\n",
    "from sklearn.model_selection import train_test_split\n",
    "from sklearn.naive_bayes import GaussianNB\n",
    "from sklearn import metrics\n",
    "from sklearn.metrics import accuracy_score, f1_score, precision_score, recall_score, classification_report, confusion_matrix\n",
    "\n",
    "gnb = GaussianNB()\n",
    "used_features =[\n",
    "    \"Emoji\",\n",
    "    \"Mathemtical symbols\",\n",
    "    \"URL\",\n",
    "    \"shorthands\",\n",
    "    \"Dot\",\n",
    "    \"length\",\n",
    "    \"capitals\",\n",
    "    \"Num_Phone\",\n",
    "    \"Special characters\",\n",
    "    \"word_count\",\n",
    "    \"mis_spell\"\n",
    "]\n",
    "\n",
    "# Train classifier\n",
    "gnb.fit(\n",
    "    X_train[used_features].values,\n",
    "    X_train[\"Category\"]\n",
    ")\n",
    "y_pred = gnb.predict(X_test[used_features])\n",
    "train_set = X_train[used_features].values\n",
    "labels = X_train[\"Category\"]\n",
    "\n",
    "test_set = X_test[used_features].values\n",
    "y_test = X_test[\"Category\"]\n",
    "\n",
    "t=[0.5,0.4,0.3,0.2,0.1]\n",
    "n1=[]\n",
    "n2=[]\n",
    "n3=[]\n",
    "for i in t:\n",
    "    X_train, X_test = train_test_split(data, test_size=i, random_state=int(time.time()))\n",
    "    from sklearn.model_selection import train_test_split\n",
    "    gnb = GaussianNB()\n",
    "    used_features =[\n",
    "        \"Emoji\",\n",
    "        \"Mathemtical symbols\",\n",
    "        \"URL\",\n",
    "        \"shorthands\",\n",
    "        \"Dot\",\n",
    "        \"length\",\n",
    "        \"capitals\",\n",
    "        \"Num_Phone\",\n",
    "        \"Special characters\",\n",
    "        \"word_count\",\n",
    "        \"mis_spell\"\n",
    "    ]\n",
    "\n",
    "# Train classifier\n",
    "    gnb.fit(\n",
    "        X_train[used_features].values,\n",
    "        X_train[\"Category\"]\n",
    "    )\n",
    "    y_pred = gnb.predict(X_test[used_features])\n",
    "    train_set = X_train[used_features].values\n",
    "    labels = X_train[\"Category\"]\n",
    "\n",
    "    test_set = X_test[used_features].values\n",
    "    y_test = X_test[\"Category\"]\n",
    "    \n",
    "    print(\"Accuracy:\",metrics.accuracy_score(y_test, y_pred))\n",
    "    n1.append(metrics.accuracy_score(y_test, y_pred))\n",
    "    p.append(precision_score(y_test, y_pred, average=\"macro\"))\n",
    "    r.append(recall_score(y_test, y_pred, average=\"macro\"))\n",
    "    print(\"Precision\",precision_score(y_test, y_pred, average=\"macro\"))\n",
    "    print(\"recall\",recall_score(y_test, y_pred, average=\"macro\"))\n"
   ]
  },
  {
   "cell_type": "code",
   "execution_count": 14,
   "metadata": {},
   "outputs": [
    {
     "name": "stdout",
     "output_type": "stream",
     "text": [
      "Accuracy: 0.9522613065326633\n",
      "Precision 0.9299723070851675\n",
      "recall 0.8534578038303204\n",
      "Accuracy: 0.946164199192463\n",
      "Precision 0.9404690618762475\n",
      "recall 0.8294148380355277\n",
      "Accuracy: 0.9479665071770335\n",
      "Precision 0.9186043875063772\n",
      "recall 0.8441099720410066\n",
      "Accuracy: 0.9551569506726457\n",
      "Precision 0.9416025446323109\n",
      "recall 0.8595703608034954\n",
      "Accuracy: 0.946236559139785\n",
      "Precision 0.8910546467107553\n",
      "recall 0.8242424242424242\n"
     ]
    }
   ],
   "source": [
    "import sklearn\n",
    "import csv\n",
    "import pandas as pd\n",
    "from sklearn import datasets\n",
    "\n",
    "#Load dataset\n",
    "data= pd.read_csv(\"spamfinal.csv\")\n",
    "data.head()\n",
    "# Import train_test_split function\n",
    "from sklearn.model_selection import train_test_split\n",
    "\n",
    "X=data[['Emoji', 'Mathemtical symbols', 'URL', 'shorthands','Dot','length','capitals','Num_Phone','Special characters','word_count','mis_spell']]  # Features\n",
    "y=data['Category']  # Labels\n",
    "\n",
    "# Split dataset into training set and test set\n",
    "X_train, X_test, y_train, y_test = train_test_split(X, y, test_size=0.3) # 70% training and 30% test\n",
    "#Import svm model\n",
    "from sklearn import svm\n",
    "\n",
    "#Create a svm Classifier\n",
    "clf = svm.SVC(kernel='linear') # Linear Kernel\n",
    "\n",
    "#Train the model using the training sets\n",
    "clf.fit(X_train, y_train)\n",
    "\n",
    "#Predict the response for test dataset\n",
    "y_pred = clf.predict(X_test)\n",
    "from sklearn import metrics\n",
    "from sklearn.metrics import accuracy_score, f1_score, precision_score, recall_score, classification_report, confusion_matrix\n",
    "svm1=[]\n",
    "svm2=[]\n",
    "svm3=[]\n",
    "t=[0.5,0.4,0.3,0.2,0.1]\n",
    "for i in t:\n",
    "    X_train, X_test, y_train, y_test = train_test_split(X, y, test_size=i)\n",
    "    #Create a Gaussian Classifier\n",
    "    clf=svm.SVC(kernel='linear')\n",
    "\n",
    "    #Train the model using the training sets y_pred=clf.predict(X_test)\n",
    "    clf.fit(X_train,y_train)\n",
    "\n",
    "    y_pred=clf.predict(X_test)\n",
    "    print(\"Accuracy:\",metrics.accuracy_score(y_test, y_pred))\n",
    "    svm1.append(metrics.accuracy_score(y_test, y_pred))\n",
    "    p.append(precision_score(y_test, y_pred, average=\"macro\"))\n",
    "    r.append(recall_score(y_test, y_pred, average=\"macro\"))\n",
    "    print(\"Precision\",precision_score(y_test, y_pred, average=\"macro\"))\n",
    "    print(\"recall\",recall_score(y_test, y_pred, average=\"macro\"))     \n",
    "    "
   ]
  },
  {
   "cell_type": "code",
   "execution_count": 15,
   "metadata": {},
   "outputs": [
    {
     "name": "stdout",
     "output_type": "stream",
     "text": [
      "Accuracy: 0.9662598707824839\n",
      "Precision 0.9421679850441793\n",
      "recall 0.9070730922451964\n",
      "Accuracy: 0.9699416778824586\n",
      "Precision 0.9570405112874961\n",
      "recall 0.9114113830302739\n",
      "Accuracy: 0.9665071770334929\n",
      "Precision 0.9458149432534678\n",
      "recall 0.9093228004583007\n",
      "Accuracy: 0.967713004484305\n",
      "Precision 0.9521756219365578\n",
      "recall 0.9053367875647669\n",
      "Accuracy: 0.9767025089605734\n",
      "Precision 0.9736696230598669\n",
      "recall 0.9245962732919255\n"
     ]
    }
   ],
   "source": [
    "import pandas as pd\n",
    "data=pd.read_csv('spamfinal.csv')\n",
    "data.head()\n",
    "# Import train_test_split function\n",
    "from sklearn.model_selection import train_test_split\n",
    "\n",
    "X=data[['Emoji', 'Mathemtical symbols', 'URL', 'shorthands','Dot','length','capitals','Num_Phone','Special characters','word_count','mis_spell']]  # Features\n",
    "y=data['Category']  # Labels\n",
    "\n",
    "# Split dataset into training set and test set\n",
    "X_train, X_test, y_train, y_test = train_test_split(X, y, test_size=0.3) # 70% training and 30% test\n",
    "#Import Random Forest Model\n",
    "from sklearn.ensemble import RandomForestClassifier\n",
    "\n",
    "#Create a Gaussian Classifier\n",
    "clf=RandomForestClassifier(n_estimators=100)\n",
    "\n",
    "#Train the model using the training sets y_pred=clf.predict(X_test)\n",
    "clf.fit(X_train,y_train)\n",
    "\n",
    "y_pred=clf.predict(X_test)\n",
    "from sklearn import metrics\n",
    "from sklearn.metrics import accuracy_score, f1_score, precision_score, recall_score, classification_report, confusion_matrix\n",
    "p=[]\n",
    "r=[]\n",
    "rf=[]\n",
    "t=[0.5,0.4,0.3,0.2,0.1]\n",
    "for i in t:\n",
    "    X_train, X_test, y_train, y_test = train_test_split(X, y, test_size=i)\n",
    "    #Create a Gaussian Classifier\n",
    "    clf=RandomForestClassifier(n_estimators=100)\n",
    "\n",
    "    #Train the model using the training sets y_pred=clf.predict(X_test)\n",
    "    clf.fit(X_train,y_train)\n",
    "\n",
    "    y_pred=clf.predict(X_test)\n",
    "    print(\"Accuracy:\",metrics.accuracy_score(y_test, y_pred))\n",
    "    rf.append(metrics.accuracy_score(y_test, y_pred))\n",
    "    p.append(precision_score(y_test, y_pred, average=\"macro\"))\n",
    "    r.append(recall_score(y_test, y_pred, average=\"macro\"))\n",
    "    print(\"Precision\",precision_score(y_test, y_pred, average=\"macro\"))\n",
    "    print(\"recall\",recall_score(y_test, y_pred, average=\"macro\"))     \n",
    "    "
   ]
  },
  {
   "cell_type": "code",
   "execution_count": 16,
   "metadata": {},
   "outputs": [
    {
     "name": "stdout",
     "output_type": "stream",
     "text": [
      "Accuracy: 0.9641062455132807\n",
      "Precision 0.9401783895276017\n",
      "recall 0.9020538585961354\n",
      "Accuracy: 0.968147151188874\n",
      "Precision 0.9498150747287762\n",
      "recall 0.9098159668221877\n",
      "Accuracy: 0.9671052631578947\n",
      "Precision 0.9383520872862066\n",
      "recall 0.9121133496133496\n",
      "Accuracy: 0.9650224215246637\n",
      "Precision 0.9283427223265444\n",
      "recall 0.9034580498866214\n",
      "Accuracy: 0.9659498207885304\n",
      "Precision 0.9314516129032258\n",
      "recall 0.9033194516217284\n"
     ]
    }
   ],
   "source": [
    "import numpy as np # linear algebra\n",
    "import pandas as pd # data processing, CSV file I/O (e.g. pd.read_csv)\n",
    "# Load libraries\n",
    "from sklearn.ensemble import AdaBoostClassifier\n",
    "from sklearn import datasets\n",
    "# Import train_test_split function\n",
    "from sklearn.model_selection import train_test_split\n",
    "#Import scikit-learn metrics module for accuracy calculation\n",
    "from sklearn import metrics\n",
    "data = pd.read_csv('spamfinal.csv', encoding='latin-1')\n",
    "data.head(n=10)\n",
    "# Import train_test_split function\n",
    "from sklearn.model_selection import train_test_split\n",
    "\n",
    "X=data[['Emoji', 'Mathemtical symbols', 'URL', 'shorthands','Dot','length','capitals','Num_Phone','Special characters','word_count','mis_spell']]  # Features\n",
    "y=data['Category']  # Labels\n",
    "\n",
    "# Split dataset into training set and test set\n",
    "X_train, X_test, y_train, y_test = train_test_split(X, y, test_size=0.3) # 70% training and 30% test \n",
    "# Create adaboost classifer object\n",
    "abc = AdaBoostClassifier(n_estimators=50,\n",
    "                         learning_rate=1)\n",
    "# Train Adaboost Classifer\n",
    "model = abc.fit(X_train, y_train)\n",
    "#Predict the response for test dataset\n",
    "y_pred = model.predict(X_test)\n",
    "from sklearn import metrics\n",
    "from sklearn.metrics import accuracy_score, f1_score, precision_score, recall_score, classification_report, confusion_matrix\n",
    "p=[]\n",
    "r=[]\n",
    "adda=[]\n",
    "t=[0.5,0.4,0.3,0.2,0.1]\n",
    "for i in t:\n",
    "    X_train, X_test, y_train, y_test = train_test_split(X, y, test_size=i)\n",
    "    #Create a Gaussian Classifier\n",
    "    clf=AdaBoostClassifier(n_estimators=100)\n",
    "\n",
    "    #Train the model using the training sets y_pred=clf.predict(X_test)\n",
    "    clf.fit(X_train,y_train)\n",
    "\n",
    "    y_pred=clf.predict(X_test)\n",
    "    print(\"Accuracy:\",metrics.accuracy_score(y_test, y_pred))\n",
    "    adda.append(metrics.accuracy_score(y_test, y_pred))\n",
    "    p.append(precision_score(y_test, y_pred, average=\"macro\"))\n",
    "    r.append(recall_score(y_test, y_pred, average=\"macro\"))\n",
    "    print(\"Precision\",precision_score(y_test, y_pred, average=\"macro\"))\n",
    "    print(\"recall\",recall_score(y_test, y_pred, average=\"macro\"))  \n"
   ]
  },
  {
   "cell_type": "code",
   "execution_count": 17,
   "metadata": {},
   "outputs": [
    {
     "data": {
      "text/markdown": [
       "**ROC Curve for different test-split of All the algorithms**"
      ],
      "text/plain": [
       "<IPython.core.display.Markdown object>"
      ]
     },
     "metadata": {},
     "output_type": "display_data"
    },
    {
     "data": {
      "image/png": "[encoded data removed]",
      "text/plain": [
       "<Figure size 720x720 with 1 Axes>"
      ]
     },
     "metadata": {
      "needs_background": "light"
     },
     "output_type": "display_data"
    }
   ],
   "source": [
    "display(Markdown(\"**ROC Curve for different test-split of All the algorithms**\"))\n",
    "import numpy as np   \n",
    "import matplotlib.pyplot as plt\n",
    "plt.figure(figsize=(10,10))\n",
    "n_groups=5\n",
    "index = np.arange(n_groups)\n",
    "plt.plot(a,label=\"Logistic regression\")\n",
    "plt.plot(d1,label=\"decision tree\")\n",
    "plt.plot(n1,label=\"naive Bayes\")\n",
    "plt.plot(svm1,label=\"SVM\")\n",
    "plt.plot(rf,label=\"Random Forest\")\n",
    "plt.plot(adda,label=\"AdaBoost\")\n",
    "plt.xlabel('configurations')\n",
    "plt.ylabel('Accuracy score')\n",
    "plt.title('Accuracy vs Configuration plot')\n",
    "plt.xticks(index+0.15, ('50:50', '60:40', '70:30', '80:20', '90:10'))\n",
    "plt.legend()\n",
    "plt.savefig('ROCf.png',dpi=1000)\n",
    "plt.show()\n"
   ]
  },
  {
   "cell_type": "code",
   "execution_count": null,
   "metadata": {},
   "outputs": [],
   "source": []
  },
  {
   "cell_type": "code",
   "execution_count": null,
   "metadata": {},
   "outputs": [],
   "source": []
  },
  {
   "cell_type": "code",
   "execution_count": null,
   "metadata": {},
   "outputs": [],
   "source": []
  }
 ],
 "metadata": {
  "kernelspec": {
   "display_name": "Python 3",
   "language": "python",
   "name": "python3"
  },
  "language_info": {
   "codemirror_mode": {
    "name": "ipython",
    "version": 3
   },
   "file_extension": ".py",
   "mimetype": "text/x-python",
   "name": "python",
   "nbconvert_exporter": "python",
   "pygments_lexer": "ipython3",
   "version": "3.5.1"
  }
 },
 "nbformat": 4,
 "nbformat_minor": 2
}
